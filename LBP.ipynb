{
 "cells": [
  {
   "cell_type": "code",
   "execution_count": 4,
   "metadata": {},
   "outputs": [],
   "source": [
    "import cv2\n",
    "import numpy as np\n",
    "import matplotlib.pyplot as plt\n",
    "import sklearn\n",
    "import itertools\n",
    "from skimage.feature import local_binary_pattern"
   ]
  },
  {
   "cell_type": "code",
   "execution_count": 5,
   "metadata": {},
   "outputs": [],
   "source": [
    "# Compute LBP for given list and radius, and return list of flattened LBP features\n",
    "def compute_lbp_list(img_list, radius=2):\n",
    "    # Set the cell_size, block size and number of orientation bins\n",
    "    hog_feats_list = []\n",
    "    \n",
    "    # Loop through all images\n",
    "    for img in img_list:\n",
    "        # COnvert to grayscale cause LBP requires grayscale\n",
    "        img = cv2.cvtColor(img.reshape(32, 32, 3), cv2.COLOR_RGB2GRAY)\n",
    "        \n",
    "        # Compute LBP image\n",
    "        features = local_binary_pattern(img, 8*radius, radius, method='uniform')\n",
    "        \n",
    "        # Append flattened LBP image features\n",
    "        hog_feats_list.append(features.reshape(img.shape[0]*img.shape[1], 1))\n",
    "        \n",
    "    # return list of the feature maps for all the input images\n",
    "    return hog_feats_list"
   ]
  },
  {
   "cell_type": "code",
   "execution_count": 6,
   "metadata": {},
   "outputs": [
    {
     "ename": "NameError",
     "evalue": "name 'IMAGE_LIST_HERE' is not defined",
     "output_type": "error",
     "traceback": [
      "\u001b[0;31m---------------------------------------------------------------------------\u001b[0m",
      "\u001b[0;31mNameError\u001b[0m                                 Traceback (most recent call last)",
      "\u001b[0;32m<ipython-input-6-f0f61c85715a>\u001b[0m in \u001b[0;36m<module>\u001b[0;34m\u001b[0m\n\u001b[1;32m      3\u001b[0m \u001b[0mvocabulary_list\u001b[0m \u001b[0;34m=\u001b[0m \u001b[0;34m[\u001b[0m\u001b[0;34m]\u001b[0m\u001b[0;34m\u001b[0m\u001b[0;34m\u001b[0m\u001b[0m\n\u001b[1;32m      4\u001b[0m \u001b[0;32mfor\u001b[0m \u001b[0mradius\u001b[0m \u001b[0;32min\u001b[0m \u001b[0mradius_list\u001b[0m\u001b[0;34m:\u001b[0m\u001b[0;34m\u001b[0m\u001b[0;34m\u001b[0m\u001b[0m\n\u001b[0;32m----> 5\u001b[0;31m     \u001b[0mvocabulary_list\u001b[0m\u001b[0;34m.\u001b[0m\u001b[0mappend\u001b[0m\u001b[0;34m(\u001b[0m\u001b[0mcompute_lbp_list\u001b[0m\u001b[0;34m(\u001b[0m\u001b[0mIMAGE_LIST_HERE\u001b[0m\u001b[0;34m,\u001b[0m \u001b[0mradius\u001b[0m\u001b[0;34m)\u001b[0m\u001b[0;34m)\u001b[0m\u001b[0;34m\u001b[0m\u001b[0;34m\u001b[0m\u001b[0m\n\u001b[0m",
      "\u001b[0;31mNameError\u001b[0m: name 'IMAGE_LIST_HERE' is not defined"
     ]
    }
   ],
   "source": [
    "radius_list = [2, 7, 12]\n",
    "\n",
    "vocabulary_list = []\n",
    "for radius in radius_list:\n",
    "    vocabulary_list.append(compute_lbp_list(IMAGE_LIST_HERE, radius))"
   ]
  },
  {
   "cell_type": "code",
   "execution_count": null,
   "metadata": {},
   "outputs": [],
   "source": [
    "# Recognition Rate here"
   ]
  },
  {
   "cell_type": "code",
   "execution_count": 10,
   "metadata": {},
   "outputs": [
    {
     "data": {
      "image/png": "[encoded data removed]",
      "text/plain": [
       "<Figure size 432x288 with 1 Axes>"
      ]
     },
     "metadata": {
      "needs_background": "light"
     },
     "output_type": "display_data"
    }
   ],
   "source": [
    "plt.figure()\n",
    "plt.plot(radius_list, RECOGNITION_RATE_HERE)\n",
    "plt.title('Recognition Rate vs Radius for Local Binary Patter Features')\n",
    "plt.xlabel('Radius')\n",
    "plt.ylabel('Recognition Rate')\n",
    "plt.show()"
   ]
  },
  {
   "cell_type": "code",
   "execution_count": null,
   "metadata": {},
   "outputs": [],
   "source": [
    "# Compute confusion matrix\n",
    "conf_lbp = confusion_matrix(TEST_LABELS_HERE, PREDICTED_LBP_LABELS_HERE)\n",
    "\n",
    "plt.figure()\n",
    "plt.matshow(conf_inten)"
   ]
  }
 ],
 "metadata": {
  "kernelspec": {
   "display_name": "Python 3",
   "language": "python",
   "name": "python3"
  },
  "language_info": {
   "codemirror_mode": {
    "name": "ipython",
    "version": 3
   },
   "file_extension": ".py",
   "mimetype": "text/x-python",
   "name": "python",
   "nbconvert_exporter": "python",
   "pygments_lexer": "ipython3",
   "version": "3.6.8rc1"
  }
 },
 "nbformat": 4,
 "nbformat_minor": 2
}
